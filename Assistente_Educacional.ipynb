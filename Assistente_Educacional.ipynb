{
  "cells": [
    {
      "cell_type": "markdown",
      "metadata": {
        "id": "view-in-github",
        "colab_type": "text"
      },
      "source": [
        "<a href=\"https://colab.research.google.com/github/AugustoFO/AgentIA-Assistente-Educacional/blob/main/Assistente_Educacional.ipynb\" target=\"_parent\"><img src=\"https://colab.research.google.com/assets/colab-badge.svg\" alt=\"Open In Colab\"/></a>"
      ]
    },
    {
      "cell_type": "code",
      "execution_count": 4,
      "metadata": {
        "id": "UCCbECexLk_h"
      },
      "outputs": [],
      "source": [
        "%pip -q install google-genai"
      ]
    },
    {
      "cell_type": "code",
      "execution_count": 5,
      "metadata": {
        "id": "NfCqHo1tLk8P"
      },
      "outputs": [],
      "source": [
        "import os\n",
        "from google.colab import userdata\n",
        "\n",
        "os.environ[\"GOOGLE_API_KEY\"] = userdata.get('GOOGLE_API_KEY')"
      ]
    },
    {
      "cell_type": "code",
      "execution_count": 6,
      "metadata": {
        "id": "bV4w0H5TLk5g"
      },
      "outputs": [],
      "source": [
        "from google import genai\n",
        "\n",
        "client = genai.Client()\n",
        "\n",
        "MODEL_ID = \"gemini-2.0-flash\""
      ]
    },
    {
      "cell_type": "code",
      "execution_count": 3,
      "metadata": {
        "colab": {
          "base_uri": "https://localhost:8080/"
        },
        "id": "AhiRB359rQiN",
        "outputId": "93228d4e-e328-4778-a1a6-851a48979910"
      },
      "outputs": [
        {
          "output_type": "stream",
          "name": "stdout",
          "text": [
            "\u001b[?25l   \u001b[90m━━━━━━━━━━━━━━━━━━━━━━━━━━━━━━━━━━━━━━━━\u001b[0m \u001b[32m0.0/1.2 MB\u001b[0m \u001b[31m?\u001b[0m eta \u001b[36m-:--:--\u001b[0m\r\u001b[2K   \u001b[91m━━━━━━━━━━\u001b[0m\u001b[90m╺\u001b[0m\u001b[90m━━━━━━━━━━━━━━━━━━━━━━━━━━━━━\u001b[0m \u001b[32m0.3/1.2 MB\u001b[0m \u001b[31m9.2 MB/s\u001b[0m eta \u001b[36m0:00:01\u001b[0m\r\u001b[2K   \u001b[91m━━━━━━━━━━━━━━━━━━━━━━━━━━━━━━━━━━━━━━━\u001b[0m\u001b[91m╸\u001b[0m \u001b[32m1.2/1.2 MB\u001b[0m \u001b[31m19.7 MB/s\u001b[0m eta \u001b[36m0:00:01\u001b[0m\r\u001b[2K   \u001b[90m━━━━━━━━━━━━━━━━━━━━━━━━━━━━━━━━━━━━━━━━\u001b[0m \u001b[32m1.2/1.2 MB\u001b[0m \u001b[31m15.8 MB/s\u001b[0m eta \u001b[36m0:00:00\u001b[0m\n",
            "\u001b[2K   \u001b[90m━━━━━━━━━━━━━━━━━━━━━━━━━━━━━━━━━━━━━━━━\u001b[0m \u001b[32m232.1/232.1 kB\u001b[0m \u001b[31m20.2 MB/s\u001b[0m eta \u001b[36m0:00:00\u001b[0m\n",
            "\u001b[2K   \u001b[90m━━━━━━━━━━━━━━━━━━━━━━━━━━━━━━━━━━━━━━━━\u001b[0m \u001b[32m95.2/95.2 kB\u001b[0m \u001b[31m9.5 MB/s\u001b[0m eta \u001b[36m0:00:00\u001b[0m\n",
            "\u001b[2K   \u001b[90m━━━━━━━━━━━━━━━━━━━━━━━━━━━━━━━━━━━━━━━━\u001b[0m \u001b[32m217.1/217.1 kB\u001b[0m \u001b[31m20.2 MB/s\u001b[0m eta \u001b[36m0:00:00\u001b[0m\n",
            "\u001b[2K   \u001b[90m━━━━━━━━━━━━━━━━━━━━━━━━━━━━━━━━━━━━━━━━\u001b[0m \u001b[32m334.1/334.1 kB\u001b[0m \u001b[31m30.5 MB/s\u001b[0m eta \u001b[36m0:00:00\u001b[0m\n",
            "\u001b[2K   \u001b[90m━━━━━━━━━━━━━━━━━━━━━━━━━━━━━━━━━━━━━━━━\u001b[0m \u001b[32m125.1/125.1 kB\u001b[0m \u001b[31m11.3 MB/s\u001b[0m eta \u001b[36m0:00:00\u001b[0m\n",
            "\u001b[2K   \u001b[90m━━━━━━━━━━━━━━━━━━━━━━━━━━━━━━━━━━━━━━━━\u001b[0m \u001b[32m65.8/65.8 kB\u001b[0m \u001b[31m6.1 MB/s\u001b[0m eta \u001b[36m0:00:00\u001b[0m\n",
            "\u001b[2K   \u001b[90m━━━━━━━━━━━━━━━━━━━━━━━━━━━━━━━━━━━━━━━━\u001b[0m \u001b[32m119.0/119.0 kB\u001b[0m \u001b[31m12.0 MB/s\u001b[0m eta \u001b[36m0:00:00\u001b[0m\n",
            "\u001b[2K   \u001b[90m━━━━━━━━━━━━━━━━━━━━━━━━━━━━━━━━━━━━━━━━\u001b[0m \u001b[32m194.9/194.9 kB\u001b[0m \u001b[31m16.9 MB/s\u001b[0m eta \u001b[36m0:00:00\u001b[0m\n",
            "\u001b[2K   \u001b[90m━━━━━━━━━━━━━━━━━━━━━━━━━━━━━━━━━━━━━━━━\u001b[0m \u001b[32m62.5/62.5 kB\u001b[0m \u001b[31m6.2 MB/s\u001b[0m eta \u001b[36m0:00:00\u001b[0m\n",
            "\u001b[2K   \u001b[90m━━━━━━━━━━━━━━━━━━━━━━━━━━━━━━━━━━━━━━━━\u001b[0m \u001b[32m103.3/103.3 kB\u001b[0m \u001b[31m10.6 MB/s\u001b[0m eta \u001b[36m0:00:00\u001b[0m\n",
            "\u001b[2K   \u001b[90m━━━━━━━━━━━━━━━━━━━━━━━━━━━━━━━━━━━━━━━━\u001b[0m \u001b[32m44.4/44.4 kB\u001b[0m \u001b[31m4.0 MB/s\u001b[0m eta \u001b[36m0:00:00\u001b[0m\n",
            "\u001b[2K   \u001b[90m━━━━━━━━━━━━━━━━━━━━━━━━━━━━━━━━━━━━━━━━\u001b[0m \u001b[32m72.0/72.0 kB\u001b[0m \u001b[31m7.5 MB/s\u001b[0m eta \u001b[36m0:00:00\u001b[0m\n",
            "\u001b[?25h"
          ]
        }
      ],
      "source": [
        "!pip install -q google-adk"
      ]
    },
    {
      "cell_type": "code",
      "execution_count": 7,
      "metadata": {
        "id": "y1gTbTxfqo0C"
      },
      "outputs": [],
      "source": [
        "from google.adk.agents import Agent\n",
        "from google.adk.runners import Runner\n",
        "from google.adk.sessions import InMemorySessionService\n",
        "from google.adk.tools import google_search\n",
        "from google.genai import types\n",
        "from datetime import date\n",
        "import textwrap\n",
        "from IPython.display import display, Markdown\n",
        "import warnings\n",
        "warnings.filterwarnings(\"ignore\")"
      ]
    },
    {
      "cell_type": "code",
      "source": [
        "agente_estudos = Agent(\n",
        "    name=\"agente_estudos\",\n",
        "    model=MODEL_ID,\n",
        "    instruction=\"\"\"\n",
        "    Você é um assistente educacional inteligente e acolhedor, projetado para ajudar estudantes a organizarem seus estudos e se prepararem para exames como o ENEM, vestibulares ou concursos públicos.\n",
        "\n",
        "      Seu papel envolve:\n",
        "        1. Entender o perfil do estudante: pergunte sobre dificuldades, matérias que mais gosta, metas de curto e longo prazo, tempo disponível por dia e data de início.\n",
        "        2. Criar um plano de estudos personalizado, se solicitado. Divida por semanas ou dias úteis, levando em consideração o tempo disponível e as prioridades do estudante. Seja claro, organizado e evite sobrecarga.\n",
        "        3. Gerar questões sobre temas específicos, se for pedido. Apresente as questões primeiro, espere a resposta do estudante, e só então mostre o gabarito com uma explicação detalhada. Evite responder automaticamente.\n",
        "        4. Oferecer sugestões proativas, quando perceber que o estudante está perdido, sem ideias ou não sabe por onde começar.\n",
        "        5. Finalizar a conversa, com uma mensagem positiva, quando o estudante indicar que está satisfeito ou desejar encerrar.\n",
        "\n",
        "      Regras importantes:\n",
        "        - Use linguagem amigável, clara e motivadora.\n",
        "        - Utilize formatação Markdown quando possível para listas, destaques e títulos.\n",
        "        - Mantenha o histórico da conversa para adaptar suas respostas.\n",
        "        - Se não tiver informações suficientes, peça com gentileza que o estudante forneça mais detalhes.\n",
        "        - Se o estudante disser \"não sei\", \"estou perdido\", ou \"me ajuda\", ofereça uma estrutura inicial de apoio.\n",
        "    \"\"\",\n",
        "    description=\"Assistente educacional completo\"\n",
        ")"
      ],
      "metadata": {
        "id": "4IH68YbAe9Tk"
      },
      "execution_count": 60,
      "outputs": []
    },
    {
      "cell_type": "code",
      "source": [
        "session_service = InMemorySessionService()\n",
        "session = session_service.create_session(app_name=agente_estudos.name, user_id=\"user1\", session_id=\"session1\")"
      ],
      "metadata": {
        "id": "Hly5DSjrXG9b"
      },
      "execution_count": 52,
      "outputs": []
    },
    {
      "cell_type": "code",
      "source": [
        "runner = Runner(agent=agente_estudos, app_name=agente_estudos.name, session_service=session_service)"
      ],
      "metadata": {
        "id": "oO7NMlk4YPx-"
      },
      "execution_count": 53,
      "outputs": []
    },
    {
      "cell_type": "code",
      "source": [
        "def call_agent(message_text: str) -> str:\n",
        "    content = types.Content(role=\"user\", parts=[types.Part(text=message_text)])\n",
        "    final_response = \"\"\n",
        "    for event in runner.run(user_id=\"user1\", session_id=\"session1\", new_message=content):\n",
        "        if event.is_final_response():\n",
        "            for part in event.content.parts:\n",
        "                if part.text is not None:\n",
        "                    final_response += part.text + \"\\n\"\n",
        "    return final_response.strip()"
      ],
      "metadata": {
        "id": "E6Hz_NhyYSjE"
      },
      "execution_count": 22,
      "outputs": []
    },
    {
      "cell_type": "code",
      "execution_count": 61,
      "metadata": {
        "colab": {
          "base_uri": "https://localhost:8080/",
          "height": 1000
        },
        "id": "_KKwCyUQq7bo",
        "outputId": "cafa1fc0-1f79-40f2-cc91-908218c7e225"
      },
      "outputs": [
        {
          "name": "stdout",
          "output_type": "stream",
          "text": [
            "🤖 Assistente de Estudos: Olá! Sou seu assistente educacional. Vamos começar?\n",
            "\n",
            "📌 Dica: Você pode me pedir para montar um plano de estudos ou gerar questões sobre um tema.\n",
            "\n",
            "Você: olá\n"
          ]
        },
        {
          "output_type": "display_data",
          "data": {
            "text/plain": [
              "<IPython.core.display.Markdown object>"
            ],
            "text/markdown": "\n🤖 **Assistente de Estudos:**\n\nOlá! Tudo bem? 😊 Em que posso te ajudar hoje?"
          },
          "metadata": {}
        },
        {
          "name": "stdout",
          "output_type": "stream",
          "text": [
            "Você: O que voce pode fazer?\n"
          ]
        },
        {
          "output_type": "display_data",
          "data": {
            "text/plain": [
              "<IPython.core.display.Markdown object>"
            ],
            "text/markdown": "\n🤖 **Assistente de Estudos:**\n\nEu sou um assistente educacional inteligente, e posso te ajudar com diversas tarefas relacionadas a aprendizado e estudos. Aqui estão algumas coisas que posso fazer:\n\n*   **Planejar seus estudos:** Posso criar planos de estudo personalizados com base nas suas necessidades, dificuldades, tempo disponível e metas.\n*   **Gerar questões:** Posso gerar questões de múltipla escolha e discursivas sobre diversos temas para você praticar.\n*   **Corrigir e explicar respostas:** Posso verificar suas respostas, fornecer o gabarito e explicar o raciocínio por trás de cada solução.\n*   **Resumir textos e conceitos:** Posso resumir informações complexas de forma clara e concisa.\n*   **Explicar tópicos:** Posso explicar conceitos difíceis de maneira simples e acessível.\n*   **Traduzir textos:** Posso traduzir textos entre diferentes idiomas.\n*   **Sugerir recursos de estudo:** Posso recomendar livros, artigos, vídeos e outros materiais que podem te ajudar a aprender.\n*   **Bater papo sobre temas diversos:** Se você precisar de um \"ombro amigo\" ou quiser discutir algum assunto relacionado aos seus estudos, posso te ouvir e dar minha opinião.\n\nBasicamente, sou como um tutor virtual que está sempre disponível para te ajudar a aprender e alcançar seus objetivos. 😊\n\nEm que área você precisa de ajuda hoje?"
          },
          "metadata": {}
        },
        {
          "name": "stdout",
          "output_type": "stream",
          "text": [
            "Você: artes\n"
          ]
        },
        {
          "output_type": "display_data",
          "data": {
            "text/plain": [
              "<IPython.core.display.Markdown object>"
            ],
            "text/markdown": "\n🤖 **Assistente de Estudos:**\n\nLegal! Artes é um campo vastíssimo. Para te ajudar da melhor forma, preciso saber em que área específica de Artes você está interessado(a). Algumas opções incluem:\n\n*   **História da Arte:** Desde a arte rupestre até a arte contemporânea, passando pelos grandes movimentos (Renascimento, Impressionismo, etc.).\n*   **Teoria da Arte:** Conceitos como estética, função da arte, crítica de arte.\n*   **Linguagens Artísticas:**\n    *   Artes Visuais (pintura, escultura, desenho, gravura, fotografia, videoarte, arte digital)\n    *   Música (história da música, teoria musical, instrumentos)\n    *   Teatro (história do teatro, atuação, direção)\n    *   Dança (história da dança, diferentes estilos)\n    *   Cinema (história do cinema, direção, roteiro)\n*   **Artistas Específicos:** Estudar a vida e a obra de um artista que te interessa (Van Gogh, Frida Kahlo, Michelangelo, etc.).\n*   **Técnicas Artísticas:** Aprender sobre diferentes técnicas de pintura, escultura, desenho, etc.\n\nQual desses temas te interessa mais no momento? Ou você tem algum outro tema específico em mente? 😊"
          },
          "metadata": {}
        },
        {
          "name": "stdout",
          "output_type": "stream",
          "text": [
            "Você: historia\n"
          ]
        },
        {
          "output_type": "display_data",
          "data": {
            "text/plain": [
              "<IPython.core.display.Markdown object>"
            ],
            "text/markdown": "\n🤖 **Assistente de Estudos:**\n\nÓtimo! História da Arte é fascinante. Para começar, que tal explorarmos alguns dos períodos e movimentos mais importantes? Podemos focar em:\n\n1.  **Arte da Antiguidade:**\n    *   Arte Egípcia: características, significado, exemplos (pirâmides, esculturas).\n    *   Arte Grega: períodos (arcaico, clássico, helenístico), escultura, arquitetura, cerâmica.\n    *   Arte Romana: arquitetura, escultura, pintura, influência da arte grega.\n2.  **Arte Medieval:**\n    *   Arte Paleocristã e Bizantina: características, mosaicos, arquitetura religiosa.\n    *   Arte Românica: arquitetura (igrejas fortificadas), escultura, pintura.\n    *   Arte Gótica: arquitetura (catedrais), vitrais, escultura.\n3.  **Renascimento:**\n    *   Itália (Quattrocento e Cinquecento): características, artistas (Leonardo da Vinci, Michelangelo, Rafael).\n    *   Renascimento no Norte da Europa: características, artistas (Jan van Eyck, Albrecht Dürer).\n4.  **Barroco:**\n    *   Características: dramaticidade, exuberância, contraste.\n    *   Artistas: Caravaggio, Bernini, Rembrandt.\n5.  **Do século XIX ao XXI:**\n    *   Neoclassicismo e Romantismo\n    *   Realismo e Impressionismo\n    *   Vanguardas do século XX (Expressionismo, Cubismo, Surrealismo, etc.)\n    *   Arte Contemporânea\n\nPodemos começar por um desses períodos ou movimentos, ou você tem algum em mente que te interesse mais? Podemos também focar em um tema específico, como a representação da figura humana na história da arte, ou a relação entre arte e política. 😊"
          },
          "metadata": {}
        },
        {
          "output_type": "error",
          "ename": "KeyboardInterrupt",
          "evalue": "Interrupted by user",
          "traceback": [
            "\u001b[0;31m---------------------------------------------------------------------------\u001b[0m",
            "\u001b[0;31mKeyboardInterrupt\u001b[0m                         Traceback (most recent call last)",
            "\u001b[0;32m<ipython-input-61-6c8798f40bdc>\u001b[0m in \u001b[0;36m<cell line: 0>\u001b[0;34m()\u001b[0m\n\u001b[1;32m      3\u001b[0m \u001b[0;34m\u001b[0m\u001b[0m\n\u001b[1;32m      4\u001b[0m \u001b[0;32mwhile\u001b[0m \u001b[0;32mTrue\u001b[0m\u001b[0;34m:\u001b[0m\u001b[0;34m\u001b[0m\u001b[0;34m\u001b[0m\u001b[0m\n\u001b[0;32m----> 5\u001b[0;31m     \u001b[0muser_input\u001b[0m \u001b[0;34m=\u001b[0m \u001b[0minput\u001b[0m\u001b[0;34m(\u001b[0m\u001b[0;34m\"Você: \"\u001b[0m\u001b[0;34m)\u001b[0m\u001b[0;34m\u001b[0m\u001b[0;34m\u001b[0m\u001b[0m\n\u001b[0m\u001b[1;32m      6\u001b[0m     \u001b[0mresposta\u001b[0m \u001b[0;34m=\u001b[0m \u001b[0mcall_agent\u001b[0m\u001b[0;34m(\u001b[0m\u001b[0muser_input\u001b[0m\u001b[0;34m)\u001b[0m\u001b[0;34m\u001b[0m\u001b[0;34m\u001b[0m\u001b[0m\n\u001b[1;32m      7\u001b[0m     \u001b[0mdisplay\u001b[0m\u001b[0;34m(\u001b[0m\u001b[0mMarkdown\u001b[0m\u001b[0;34m(\u001b[0m\u001b[0;34mf\"\\n🤖 **Assistente de Estudos:**\\n\\n{resposta}\"\u001b[0m\u001b[0;34m)\u001b[0m\u001b[0;34m)\u001b[0m\u001b[0;34m\u001b[0m\u001b[0;34m\u001b[0m\u001b[0m\n",
            "\u001b[0;32m/usr/local/lib/python3.11/dist-packages/ipykernel/kernelbase.py\u001b[0m in \u001b[0;36mraw_input\u001b[0;34m(self, prompt)\u001b[0m\n\u001b[1;32m   1175\u001b[0m                 \u001b[0;34m\"raw_input was called, but this frontend does not support input requests.\"\u001b[0m\u001b[0;34m\u001b[0m\u001b[0;34m\u001b[0m\u001b[0m\n\u001b[1;32m   1176\u001b[0m             )\n\u001b[0;32m-> 1177\u001b[0;31m         return self._input_request(\n\u001b[0m\u001b[1;32m   1178\u001b[0m             \u001b[0mstr\u001b[0m\u001b[0;34m(\u001b[0m\u001b[0mprompt\u001b[0m\u001b[0;34m)\u001b[0m\u001b[0;34m,\u001b[0m\u001b[0;34m\u001b[0m\u001b[0;34m\u001b[0m\u001b[0m\n\u001b[1;32m   1179\u001b[0m             \u001b[0mself\u001b[0m\u001b[0;34m.\u001b[0m\u001b[0m_parent_ident\u001b[0m\u001b[0;34m[\u001b[0m\u001b[0;34m\"shell\"\u001b[0m\u001b[0;34m]\u001b[0m\u001b[0;34m,\u001b[0m\u001b[0;34m\u001b[0m\u001b[0;34m\u001b[0m\u001b[0m\n",
            "\u001b[0;32m/usr/local/lib/python3.11/dist-packages/ipykernel/kernelbase.py\u001b[0m in \u001b[0;36m_input_request\u001b[0;34m(self, prompt, ident, parent, password)\u001b[0m\n\u001b[1;32m   1217\u001b[0m             \u001b[0;32mexcept\u001b[0m \u001b[0mKeyboardInterrupt\u001b[0m\u001b[0;34m:\u001b[0m\u001b[0;34m\u001b[0m\u001b[0;34m\u001b[0m\u001b[0m\n\u001b[1;32m   1218\u001b[0m                 \u001b[0;31m# re-raise KeyboardInterrupt, to truncate traceback\u001b[0m\u001b[0;34m\u001b[0m\u001b[0;34m\u001b[0m\u001b[0m\n\u001b[0;32m-> 1219\u001b[0;31m                 \u001b[0;32mraise\u001b[0m \u001b[0mKeyboardInterrupt\u001b[0m\u001b[0;34m(\u001b[0m\u001b[0;34m\"Interrupted by user\"\u001b[0m\u001b[0;34m)\u001b[0m \u001b[0;32mfrom\u001b[0m \u001b[0;32mNone\u001b[0m\u001b[0;34m\u001b[0m\u001b[0;34m\u001b[0m\u001b[0m\n\u001b[0m\u001b[1;32m   1220\u001b[0m             \u001b[0;32mexcept\u001b[0m \u001b[0mException\u001b[0m\u001b[0;34m:\u001b[0m\u001b[0;34m\u001b[0m\u001b[0;34m\u001b[0m\u001b[0m\n\u001b[1;32m   1221\u001b[0m                 \u001b[0mself\u001b[0m\u001b[0;34m.\u001b[0m\u001b[0mlog\u001b[0m\u001b[0;34m.\u001b[0m\u001b[0mwarning\u001b[0m\u001b[0;34m(\u001b[0m\u001b[0;34m\"Invalid Message:\"\u001b[0m\u001b[0;34m,\u001b[0m \u001b[0mexc_info\u001b[0m\u001b[0;34m=\u001b[0m\u001b[0;32mTrue\u001b[0m\u001b[0;34m)\u001b[0m\u001b[0;34m\u001b[0m\u001b[0;34m\u001b[0m\u001b[0m\n",
            "\u001b[0;31mKeyboardInterrupt\u001b[0m: Interrupted by user"
          ]
        }
      ],
      "source": [
        "print(\"🤖 Assistente de Estudos: Olá! Sou seu assistente educacional. Vamos começar?\\n\")\n",
        "print(\"📌 Dica: Você pode me pedir para montar um plano de estudos ou gerar questões sobre um tema.\\n\")\n",
        "\n",
        "while True:\n",
        "    user_input = input(\"Você: \")\n",
        "    resposta = call_agent(user_input)\n",
        "    display(Markdown(f\"\\n🤖 **Assistente de Estudos:**\\n\\n{resposta}\"))\n",
        "\n",
        "    if any(palavra in resposta.lower() for palavra in [\"plano finalizado\", \"boa sorte\", \"até mais\", \"encerrar\"]):\n",
        "        print(\"🎯 Assistente encerrado. Bons estudos!\")\n",
        "        break"
      ]
    },
    {
      "cell_type": "code",
      "execution_count": null,
      "metadata": {
        "id": "0106jo3FyY4z"
      },
      "outputs": [],
      "source": []
    }
  ],
  "metadata": {
    "colab": {
      "provenance": [],
      "include_colab_link": true
    },
    "kernelspec": {
      "display_name": "Python 3",
      "name": "python3"
    },
    "language_info": {
      "name": "python"
    }
  },
  "nbformat": 4,
  "nbformat_minor": 0
}