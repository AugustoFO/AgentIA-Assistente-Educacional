{
  "cells": [
    {
      "cell_type": "markdown",
      "metadata": {
        "id": "view-in-github",
        "colab_type": "text"
      },
      "source": [
        "<a href=\"https://colab.research.google.com/github/AugustoFO/AgentIA-Assistente-Educacional/blob/main/Assistente_Educacional.ipynb\" target=\"_parent\"><img src=\"https://colab.research.google.com/assets/colab-badge.svg\" alt=\"Open In Colab\"/></a>"
      ]
    },
    {
      "cell_type": "code",
      "execution_count": null,
      "metadata": {
        "id": "UCCbECexLk_h"
      },
      "outputs": [],
      "source": [
        "%pip -q install google-genai"
      ]
    },
    {
      "cell_type": "code",
      "execution_count": null,
      "metadata": {
        "id": "NfCqHo1tLk8P"
      },
      "outputs": [],
      "source": [
        "import os\n",
        "from google.colab import userdata\n",
        "\n",
        "os.environ[\"GOOGLE_API_KEY\"] = userdata.get('GOOGLE_API_KEY')"
      ]
    },
    {
      "cell_type": "code",
      "execution_count": null,
      "metadata": {
        "id": "bV4w0H5TLk5g"
      },
      "outputs": [],
      "source": [
        "from google import genai\n",
        "\n",
        "client = genai.Client()\n",
        "\n",
        "MODEL_ID = \"gemini-2.0-flash\""
      ]
    },
    {
      "cell_type": "code",
      "execution_count": null,
      "metadata": {
        "colab": {
          "base_uri": "https://localhost:8080/"
        },
        "id": "AhiRB359rQiN",
        "outputId": "93228d4e-e328-4778-a1a6-851a48979910"
      },
      "outputs": [
        {
          "output_type": "stream",
          "name": "stdout",
          "text": [
            "\u001b[?25l   \u001b[90m━━━━━━━━━━━━━━━━━━━━━━━━━━━━━━━━━━━━━━━━\u001b[0m \u001b[32m0.0/1.2 MB\u001b[0m \u001b[31m?\u001b[0m eta \u001b[36m-:--:--\u001b[0m\r\u001b[2K   \u001b[91m━━━━━━━━━━\u001b[0m\u001b[90m╺\u001b[0m\u001b[90m━━━━━━━━━━━━━━━━━━━━━━━━━━━━━\u001b[0m \u001b[32m0.3/1.2 MB\u001b[0m \u001b[31m9.2 MB/s\u001b[0m eta \u001b[36m0:00:01\u001b[0m\r\u001b[2K   \u001b[91m━━━━━━━━━━━━━━━━━━━━━━━━━━━━━━━━━━━━━━━\u001b[0m\u001b[91m╸\u001b[0m \u001b[32m1.2/1.2 MB\u001b[0m \u001b[31m19.7 MB/s\u001b[0m eta \u001b[36m0:00:01\u001b[0m\r\u001b[2K   \u001b[90m━━━━━━━━━━━━━━━━━━━━━━━━━━━━━━━━━━━━━━━━\u001b[0m \u001b[32m1.2/1.2 MB\u001b[0m \u001b[31m15.8 MB/s\u001b[0m eta \u001b[36m0:00:00\u001b[0m\n",
            "\u001b[2K   \u001b[90m━━━━━━━━━━━━━━━━━━━━━━━━━━━━━━━━━━━━━━━━\u001b[0m \u001b[32m232.1/232.1 kB\u001b[0m \u001b[31m20.2 MB/s\u001b[0m eta \u001b[36m0:00:00\u001b[0m\n",
            "\u001b[2K   \u001b[90m━━━━━━━━━━━━━━━━━━━━━━━━━━━━━━━━━━━━━━━━\u001b[0m \u001b[32m95.2/95.2 kB\u001b[0m \u001b[31m9.5 MB/s\u001b[0m eta \u001b[36m0:00:00\u001b[0m\n",
            "\u001b[2K   \u001b[90m━━━━━━━━━━━━━━━━━━━━━━━━━━━━━━━━━━━━━━━━\u001b[0m \u001b[32m217.1/217.1 kB\u001b[0m \u001b[31m20.2 MB/s\u001b[0m eta \u001b[36m0:00:00\u001b[0m\n",
            "\u001b[2K   \u001b[90m━━━━━━━━━━━━━━━━━━━━━━━━━━━━━━━━━━━━━━━━\u001b[0m \u001b[32m334.1/334.1 kB\u001b[0m \u001b[31m30.5 MB/s\u001b[0m eta \u001b[36m0:00:00\u001b[0m\n",
            "\u001b[2K   \u001b[90m━━━━━━━━━━━━━━━━━━━━━━━━━━━━━━━━━━━━━━━━\u001b[0m \u001b[32m125.1/125.1 kB\u001b[0m \u001b[31m11.3 MB/s\u001b[0m eta \u001b[36m0:00:00\u001b[0m\n",
            "\u001b[2K   \u001b[90m━━━━━━━━━━━━━━━━━━━━━━━━━━━━━━━━━━━━━━━━\u001b[0m \u001b[32m65.8/65.8 kB\u001b[0m \u001b[31m6.1 MB/s\u001b[0m eta \u001b[36m0:00:00\u001b[0m\n",
            "\u001b[2K   \u001b[90m━━━━━━━━━━━━━━━━━━━━━━━━━━━━━━━━━━━━━━━━\u001b[0m \u001b[32m119.0/119.0 kB\u001b[0m \u001b[31m12.0 MB/s\u001b[0m eta \u001b[36m0:00:00\u001b[0m\n",
            "\u001b[2K   \u001b[90m━━━━━━━━━━━━━━━━━━━━━━━━━━━━━━━━━━━━━━━━\u001b[0m \u001b[32m194.9/194.9 kB\u001b[0m \u001b[31m16.9 MB/s\u001b[0m eta \u001b[36m0:00:00\u001b[0m\n",
            "\u001b[2K   \u001b[90m━━━━━━━━━━━━━━━━━━━━━━━━━━━━━━━━━━━━━━━━\u001b[0m \u001b[32m62.5/62.5 kB\u001b[0m \u001b[31m6.2 MB/s\u001b[0m eta \u001b[36m0:00:00\u001b[0m\n",
            "\u001b[2K   \u001b[90m━━━━━━━━━━━━━━━━━━━━━━━━━━━━━━━━━━━━━━━━\u001b[0m \u001b[32m103.3/103.3 kB\u001b[0m \u001b[31m10.6 MB/s\u001b[0m eta \u001b[36m0:00:00\u001b[0m\n",
            "\u001b[2K   \u001b[90m━━━━━━━━━━━━━━━━━━━━━━━━━━━━━━━━━━━━━━━━\u001b[0m \u001b[32m44.4/44.4 kB\u001b[0m \u001b[31m4.0 MB/s\u001b[0m eta \u001b[36m0:00:00\u001b[0m\n",
            "\u001b[2K   \u001b[90m━━━━━━━━━━━━━━━━━━━━━━━━━━━━━━━━━━━━━━━━\u001b[0m \u001b[32m72.0/72.0 kB\u001b[0m \u001b[31m7.5 MB/s\u001b[0m eta \u001b[36m0:00:00\u001b[0m\n",
            "\u001b[?25h"
          ]
        }
      ],
      "source": [
        "!pip install -q google-adk"
      ]
    },
    {
      "cell_type": "code",
      "execution_count": null,
      "metadata": {
        "id": "y1gTbTxfqo0C"
      },
      "outputs": [],
      "source": [
        "from google.adk.agents import Agent\n",
        "from google.adk.runners import Runner\n",
        "from google.adk.sessions import InMemorySessionService\n",
        "from google.adk.tools import google_search\n",
        "from google.genai import types\n",
        "from datetime import date\n",
        "import textwrap\n",
        "from IPython.display import display, Markdown\n",
        "import warnings\n",
        "warnings.filterwarnings(\"ignore\")"
      ]
    },
    {
      "cell_type": "code",
      "source": [
        "agente_estudos = Agent(\n",
        "    name=\"agente_estudos\",\n",
        "    model=MODEL_ID,\n",
        "    instruction=\"\"\"\n",
        "    Você é um assistente educacional inteligente e acolhedor, projetado para ajudar estudantes a organizarem seus estudos e se prepararem para exames como o ENEM, vestibulares ou concursos públicos.\n",
        "\n",
        "      Seu papel envolve:\n",
        "        1. Entender o perfil do estudante: pergunte sobre dificuldades, matérias que mais gosta, metas de curto e longo prazo, tempo disponível por dia e data de início.\n",
        "        2. Criar um plano de estudos personalizado, se solicitado. Divida por semanas ou dias úteis, levando em consideração o tempo disponível e as prioridades do estudante. Seja claro, organizado e evite sobrecarga.\n",
        "        3. Gerar questões sobre temas específicos, se for pedido. Apresente as questões primeiro, espere a resposta do estudante, e só então mostre o gabarito com uma explicação detalhada. Evite responder automaticamente.\n",
        "        4. Oferecer sugestões proativas, quando perceber que o estudante está perdido, sem ideias ou não sabe por onde começar.\n",
        "        5. Finalizar a conversa, com uma mensagem positiva, quando o estudante indicar que está satisfeito ou desejar encerrar.\n",
        "\n",
        "      Regras importantes:\n",
        "        - Use linguagem amigável, clara e motivadora.\n",
        "        - Utilize formatação Markdown quando possível para listas, destaques e títulos.\n",
        "        - Mantenha o histórico da conversa para adaptar suas respostas.\n",
        "        - Se não tiver informações suficientes, peça com gentileza que o estudante forneça mais detalhes.\n",
        "        - Se o estudante disser \"não sei\", \"estou perdido\", ou \"me ajuda\", ofereça uma estrutura inicial de apoio.\n",
        "    \"\"\",\n",
        "    description=\"Assistente educacional completo\"\n",
        ")"
      ],
      "metadata": {
        "id": "4IH68YbAe9Tk"
      },
      "execution_count": null,
      "outputs": []
    },
    {
      "cell_type": "code",
      "source": [
        "session_service = InMemorySessionService()\n",
        "session = session_service.create_session(app_name=agente_estudos.name, user_id=\"user1\", session_id=\"session1\")"
      ],
      "metadata": {
        "id": "Hly5DSjrXG9b"
      },
      "execution_count": null,
      "outputs": []
    },
    {
      "cell_type": "code",
      "source": [
        "runner = Runner(agent=agente_estudos, app_name=agente_estudos.name, session_service=session_service)"
      ],
      "metadata": {
        "id": "oO7NMlk4YPx-"
      },
      "execution_count": null,
      "outputs": []
    },
    {
      "cell_type": "code",
      "source": [
        "def call_agent(message_text: str) -> str:\n",
        "    content = types.Content(role=\"user\", parts=[types.Part(text=message_text)])\n",
        "    final_response = \"\"\n",
        "    for event in runner.run(user_id=\"user1\", session_id=\"session1\", new_message=content):\n",
        "        if event.is_final_response():\n",
        "            for part in event.content.parts:\n",
        "                if part.text is not None:\n",
        "                    final_response += part.text + \"\\n\"\n",
        "    return final_response.strip()"
      ],
      "metadata": {
        "id": "E6Hz_NhyYSjE"
      },
      "execution_count": null,
      "outputs": []
    },
    {
      "cell_type": "code",
      "execution_count": null,
      "metadata": {
        "colab": {
          "base_uri": "https://localhost:8080/",
          "height": 402
        },
        "id": "_KKwCyUQq7bo",
        "outputId": "b4cf731f-9d98-4d40-dbd7-2c2ce5195bc3"
      },
      "outputs": [
        {
          "name": "stdout",
          "output_type": "stream",
          "text": [
            "🤖 Assistente de Estudos: Olá! Sou seu assistente educacional. Vamos começar?\n",
            "\n",
            "📌 Dica: Você pode me pedir para montar um plano de estudos ou gerar questões sobre um tema.\n",
            "\n",
            "Você: O que você pode fazer?\n"
          ]
        },
        {
          "output_type": "display_data",
          "data": {
            "text/plain": [
              "<IPython.core.display.Markdown object>"
            ],
            "text/markdown": "\n🤖 **Assistente de Estudos:**\n\nComo um assistente educacional especializado em artes, posso te ajudar de diversas maneiras com a História da Arte, ou qualquer outro tema artístico que te interesse. Aqui estão algumas coisas que posso fazer:\n\n*   **Criar planos de estudo:** Posso montar um plano de estudos personalizado, definindo quais períodos, movimentos ou artistas você deve estudar, em que ordem e com que profundidade.\n*   **Resumir informações:** Posso te dar resumos concisos dos principais períodos, movimentos e artistas, destacando as características mais importantes.\n*   **Explicar conceitos:** Posso explicar conceitos complexos de forma clara e acessível, como \"Renascimento\", \"Barroco\", \"Impressionismo\", etc.\n*   **Gerar questões:** Posso criar questões de múltipla escolha e discursivas para você testar seus conhecimentos sobre um determinado tema.\n*   **Analisar obras de arte:** Posso te ajudar a analisar obras de arte, identificando seus elementos formais, conteúdo, contexto histórico e significado.\n*   **Sugerir recursos:** Posso recomendar livros, documentários, sites e outras fontes de informação confiáveis para você aprofundar seus estudos.\n*   **Discutir ideias:** Posso conversar com você sobre suas impressões sobre as obras de arte, seus artistas favoritos e suas reflexões sobre a história da arte.\n\nPor exemplo, se você quiser estudar o Renascimento, posso te dar um resumo das principais características desse período, indicar os artistas mais importantes, explicar o conceito de \"humanismo\", gerar questões para você testar seus conhecimentos e sugerir livros e documentários para você se aprofundar no tema.\n\nQual seria a sua prioridade agora? O que você gostaria de fazer primeiro? 😊"
          },
          "metadata": {}
        }
      ],
      "source": [
        "print(\"🤖 Assistente de Estudos: Olá! Sou seu assistente educacional. Vamos começar?\\n\")\n",
        "print(\"📌 Dica: Você pode me pedir para montar um plano de estudos ou gerar questões sobre um tema.\\n\")\n",
        "\n",
        "while True:\n",
        "    user_input = input(\"Você: \")\n",
        "    resposta = call_agent(user_input)\n",
        "    display(Markdown(f\"\\n🤖 **Assistente de Estudos:**\\n\\n{resposta}\"))\n",
        "\n",
        "    if any(palavra in resposta.lower() for palavra in [\"plano finalizado\", \"boa sorte\", \"até mais\", \"encerrar\"]):\n",
        "        print(\"🎯 Assistente encerrado. Bons estudos!\")\n",
        "        break"
      ]
    },
    {
      "cell_type": "code",
      "execution_count": null,
      "metadata": {
        "id": "0106jo3FyY4z"
      },
      "outputs": [],
      "source": []
    }
  ],
  "metadata": {
    "colab": {
      "provenance": [],
      "include_colab_link": true
    },
    "kernelspec": {
      "display_name": "Python 3",
      "name": "python3"
    },
    "language_info": {
      "name": "python"
    }
  },
  "nbformat": 4,
  "nbformat_minor": 0
}